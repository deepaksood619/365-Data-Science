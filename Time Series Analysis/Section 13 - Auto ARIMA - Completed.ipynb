{
 "cells": [
  {
   "cell_type": "markdown",
   "metadata": {},
   "source": [
    "### Packages"
   ]
  },
  {
   "cell_type": "code",
   "execution_count": 21,
   "metadata": {},
   "outputs": [],
   "source": [
    "import numpy as np\n",
    "import pandas as pd\n",
    "import scipy\n",
    "import statsmodels.api as sm\n",
    "import matplotlib.pyplot as plt\n",
    "import seaborn as sns\n",
    "import sklearn\n",
    "from statsmodels.tsa.arima_model import ARIMA\n",
    "from arch import arch_model\n",
    "import seaborn as sns\n",
    "import yfinance\n",
    "import warnings\n",
    "warnings.filterwarnings(\"ignore\")\n",
    "sns.set()"
   ]
  },
  {
   "cell_type": "markdown",
   "metadata": {},
   "source": [
    "### Loading the data"
   ]
  },
  {
   "cell_type": "code",
   "execution_count": 22,
   "metadata": {},
   "outputs": [
    {
     "output_type": "stream",
     "name": "stdout",
     "text": "[*********************100%***********************]  4 of 4 completed\n"
    }
   ],
   "source": [
    "raw_data = yfinance.download (tickers = \"^GSPC ^FTSE ^N225 ^GDAXI\", start = \"1994-01-07\", end = \"2018-01-29\", \n",
    "                              interval = \"1d\", group_by = 'ticker', auto_adjust = True, treads = True)"
   ]
  },
  {
   "cell_type": "code",
   "execution_count": 23,
   "metadata": {},
   "outputs": [],
   "source": [
    "df_comp = raw_data.copy()"
   ]
  },
  {
   "cell_type": "code",
   "execution_count": 24,
   "metadata": {},
   "outputs": [],
   "source": [
    "df_comp['spx'] = df_comp['^GSPC'].Close[:]\n",
    "df_comp['dax'] = df_comp['^GDAXI'].Close[:]\n",
    "df_comp['ftse'] = df_comp['^FTSE'].Close[:]\n",
    "df_comp['nikkei'] = df_comp['^N225'].Close[:]"
   ]
  },
  {
   "cell_type": "code",
   "execution_count": 25,
   "metadata": {
    "scrolled": true
   },
   "outputs": [],
   "source": [
    "df_comp = df_comp.iloc[1:]\n",
    "del df_comp['^N225']\n",
    "del df_comp['^GSPC']\n",
    "del df_comp['^GDAXI']\n",
    "del df_comp['^FTSE']\n",
    "df_comp=df_comp.asfreq('b')\n",
    "df_comp=df_comp.fillna(method='ffill')"
   ]
  },
  {
   "cell_type": "markdown",
   "metadata": {},
   "source": [
    "### Creating Returns"
   ]
  },
  {
   "cell_type": "code",
   "execution_count": 26,
   "metadata": {},
   "outputs": [],
   "source": [
    "df_comp['ret_spx'] = df_comp.spx.pct_change(1)*100\n",
    "df_comp['ret_ftse'] = df_comp.ftse.pct_change(1)*100\n",
    "df_comp['ret_dax'] = df_comp.dax.pct_change(1)*100\n",
    "df_comp['ret_nikkei'] = df_comp.nikkei.pct_change(1)*100"
   ]
  },
  {
   "cell_type": "markdown",
   "metadata": {},
   "source": [
    "### Splitting the Data"
   ]
  },
  {
   "cell_type": "code",
   "execution_count": 27,
   "metadata": {},
   "outputs": [],
   "source": [
    "size = int(len(df_comp)*0.8)\n",
    "df, df_test = df_comp.iloc[:size], df_comp.iloc[size:]"
   ]
  },
  {
   "cell_type": "markdown",
   "metadata": {},
   "source": [
    "### Fitting a Model"
   ]
  },
  {
   "cell_type": "code",
   "execution_count": 28,
   "metadata": {},
   "outputs": [],
   "source": [
    "from pmdarima.arima import auto_arima"
   ]
  },
  {
   "cell_type": "code",
   "execution_count": 29,
   "metadata": {},
   "outputs": [],
   "source": [
    "model_auto = auto_arima(df.ret_ftse[1:])"
   ]
  },
  {
   "cell_type": "code",
   "execution_count": 30,
   "metadata": {},
   "outputs": [
    {
     "output_type": "execute_result",
     "data": {
      "text/plain": "ARIMA(maxiter=50, method='lbfgs', order=(2, 0, 5), out_of_sample_size=0,\n      scoring='mse', scoring_args=None, seasonal_order=(0, 0, 0, 0),\n      start_params=None, suppress_warnings=False, trend=None,\n      with_intercept=True)"
     },
     "metadata": {},
     "execution_count": 30
    }
   ],
   "source": [
    "model_auto"
   ]
  },
  {
   "cell_type": "code",
   "execution_count": 31,
   "metadata": {},
   "outputs": [
    {
     "output_type": "execute_result",
     "data": {
      "text/plain": "<class 'statsmodels.iolib.summary.Summary'>\n\"\"\"\n                               SARIMAX Results                                \n==============================================================================\nDep. Variable:                      y   No. Observations:                 5019\nModel:               SARIMAX(2, 0, 5)   Log Likelihood               -7883.803\nDate:                Sun, 12 Apr 2020   AIC                          15785.606\nTime:                        02:29:53   BIC                          15844.295\nSample:                             0   HQIC                         15806.171\n                               - 5019                                         \nCovariance Type:                  opg                                         \n==============================================================================\n                 coef    std err          z      P>|z|      [0.025      0.975]\n------------------------------------------------------------------------------\nintercept      0.0314      0.024      1.307      0.191      -0.016       0.078\nar.L1          0.1763      0.039      4.556      0.000       0.100       0.252\nar.L2         -0.8137      0.035    -23.113      0.000      -0.883      -0.745\nma.L1         -0.2004      0.038     -5.259      0.000      -0.275      -0.126\nma.L2          0.7661      0.037     20.538      0.000       0.693       0.839\nma.L3         -0.0952      0.012     -8.237      0.000      -0.118      -0.073\nma.L4          0.0108      0.009      1.190      0.234      -0.007       0.029\nma.L5         -0.1110      0.009    -12.939      0.000      -0.128      -0.094\nsigma2         1.3549      0.014     94.027      0.000       1.327       1.383\n===================================================================================\nLjung-Box (Q):                       69.74   Jarque-Bera (JB):              6583.04\nProb(Q):                              0.00   Prob(JB):                         0.00\nHeteroskedasticity (H):               1.99   Skew:                            -0.18\nProb(H) (two-sided):                  0.00   Kurtosis:                         8.60\n===================================================================================\n\nWarnings:\n[1] Covariance matrix calculated using the outer product of gradients (complex-step).\n\"\"\"",
      "text/html": "<table class=\"simpletable\">\n<caption>SARIMAX Results</caption>\n<tr>\n  <th>Dep. Variable:</th>           <td>y</td>        <th>  No. Observations:  </th>   <td>5019</td>   \n</tr>\n<tr>\n  <th>Model:</th>           <td>SARIMAX(2, 0, 5)</td> <th>  Log Likelihood     </th> <td>-7883.803</td>\n</tr>\n<tr>\n  <th>Date:</th>            <td>Sun, 12 Apr 2020</td> <th>  AIC                </th> <td>15785.606</td>\n</tr>\n<tr>\n  <th>Time:</th>                <td>02:29:53</td>     <th>  BIC                </th> <td>15844.295</td>\n</tr>\n<tr>\n  <th>Sample:</th>                  <td>0</td>        <th>  HQIC               </th> <td>15806.171</td>\n</tr>\n<tr>\n  <th></th>                      <td> - 5019</td>     <th>                     </th>     <td> </td>    \n</tr>\n<tr>\n  <th>Covariance Type:</th>        <td>opg</td>       <th>                     </th>     <td> </td>    \n</tr>\n</table>\n<table class=\"simpletable\">\n<tr>\n      <td></td>         <th>coef</th>     <th>std err</th>      <th>z</th>      <th>P>|z|</th>  <th>[0.025</th>    <th>0.975]</th>  \n</tr>\n<tr>\n  <th>intercept</th> <td>    0.0314</td> <td>    0.024</td> <td>    1.307</td> <td> 0.191</td> <td>   -0.016</td> <td>    0.078</td>\n</tr>\n<tr>\n  <th>ar.L1</th>     <td>    0.1763</td> <td>    0.039</td> <td>    4.556</td> <td> 0.000</td> <td>    0.100</td> <td>    0.252</td>\n</tr>\n<tr>\n  <th>ar.L2</th>     <td>   -0.8137</td> <td>    0.035</td> <td>  -23.113</td> <td> 0.000</td> <td>   -0.883</td> <td>   -0.745</td>\n</tr>\n<tr>\n  <th>ma.L1</th>     <td>   -0.2004</td> <td>    0.038</td> <td>   -5.259</td> <td> 0.000</td> <td>   -0.275</td> <td>   -0.126</td>\n</tr>\n<tr>\n  <th>ma.L2</th>     <td>    0.7661</td> <td>    0.037</td> <td>   20.538</td> <td> 0.000</td> <td>    0.693</td> <td>    0.839</td>\n</tr>\n<tr>\n  <th>ma.L3</th>     <td>   -0.0952</td> <td>    0.012</td> <td>   -8.237</td> <td> 0.000</td> <td>   -0.118</td> <td>   -0.073</td>\n</tr>\n<tr>\n  <th>ma.L4</th>     <td>    0.0108</td> <td>    0.009</td> <td>    1.190</td> <td> 0.234</td> <td>   -0.007</td> <td>    0.029</td>\n</tr>\n<tr>\n  <th>ma.L5</th>     <td>   -0.1110</td> <td>    0.009</td> <td>  -12.939</td> <td> 0.000</td> <td>   -0.128</td> <td>   -0.094</td>\n</tr>\n<tr>\n  <th>sigma2</th>    <td>    1.3549</td> <td>    0.014</td> <td>   94.027</td> <td> 0.000</td> <td>    1.327</td> <td>    1.383</td>\n</tr>\n</table>\n<table class=\"simpletable\">\n<tr>\n  <th>Ljung-Box (Q):</th>          <td>69.74</td> <th>  Jarque-Bera (JB):  </th> <td>6583.04</td>\n</tr>\n<tr>\n  <th>Prob(Q):</th>                <td>0.00</td>  <th>  Prob(JB):          </th>  <td>0.00</td>  \n</tr>\n<tr>\n  <th>Heteroskedasticity (H):</th> <td>1.99</td>  <th>  Skew:              </th>  <td>-0.18</td> \n</tr>\n<tr>\n  <th>Prob(H) (two-sided):</th>    <td>0.00</td>  <th>  Kurtosis:          </th>  <td>8.60</td>  \n</tr>\n</table><br/><br/>Warnings:<br/>[1] Covariance matrix calculated using the outer product of gradients (complex-step)."
     },
     "metadata": {},
     "execution_count": 31
    }
   ],
   "source": [
    "model_auto.summary()"
   ]
  },
  {
   "cell_type": "markdown",
   "metadata": {},
   "source": [
    "### Important Arguments"
   ]
  },
  {
   "cell_type": "code",
   "execution_count": 32,
   "metadata": {
    "scrolled": true
   },
   "outputs": [],
   "source": [
    "model_auto = auto_arima(df_comp.ret_ftse[1:], exogenous = df_comp[['ret_spx', 'ret_dax', 'ret_nikkei']][1:], m = 5,\n",
    "                       max_order = None, max_p = 7, max_q = 7, max_d = 2, max_P = 4, max_Q = 4, max_D = 2,\n",
    "                       maxiter = 50, alpha = 0.05, n_jobs = -1, trend = 'ct', information_criterion = 'oob',\n",
    "                       out_of_sample = int(len(df_comp)*0.2))\n",
    "\n",
    "\n",
    "# !!! Important Note: In pdmarima v1.5.2, out_of_sample_size is replaced with out_of_sample, so make sure to use the latter!\n",
    "\n",
    "\n",
    "# exogenous -> outside factors (e.g other time series)\n",
    "# m -> seasonal cycle length\n",
    "# max_order -> maximum amount of variables to be used in the regression (p + q)\n",
    "# max_p -> maximum AR components\n",
    "# max_q -> maximum MA components\n",
    "# max_d -> maximum Integrations\n",
    "# maxiter -> maximum iterations we're giving the model to converge the coefficients (becomes harder as the order increases)\n",
    "# alpha -> level of significance, default is 5%, which we should be using most of the time\n",
    "# n_jobs -> how many models to fit at a time (-1 indicates \"as many as possible\")\n",
    "# trend -> \"ct\" usually\n",
    "# information_criterion -> 'aic', 'aicc', 'bic', 'hqic', 'oob' (out of bag)\n",
    "#        (Akaike Information Criterion, Corrected Akaike Information Criterion,\n",
    "#        Bayesian Information Criterion, Hannan-Quinn Information Criterion, or\n",
    "#        \"out of bag\"--for validation scoring--respectively)\n",
    "# out_of_smaple -> validates the model selection (pass the entire dataset, and set 20% to be the out_of_sample_size)"
   ]
  },
  {
   "cell_type": "code",
   "execution_count": 33,
   "metadata": {},
   "outputs": [
    {
     "output_type": "execute_result",
     "data": {
      "text/plain": "<class 'statsmodels.iolib.summary.Summary'>\n\"\"\"\n                                      SARIMAX Results                                      \n===========================================================================================\nDep. Variable:                                   y   No. Observations:                 6275\nModel:             SARIMAX(2, 0, 2)x(1, 0, [1], 5)   Log Likelihood               -6340.150\nDate:                             Sun, 12 Apr 2020   AIC                          12704.301\nTime:                                     02:32:06   BIC                          12785.233\nSample:                                 01-10-1994   HQIC                         12732.342\n                                      - 01-26-2018                                         \nCovariance Type:                               opg                                         \n==============================================================================\n                 coef    std err          z      P>|z|      [0.025      0.975]\n------------------------------------------------------------------------------\nintercept     -0.0043      0.009     -0.499      0.618      -0.021       0.013\ndrift      -1.452e-06   2.72e-06     -0.534      0.593   -6.78e-06    3.88e-06\nret_spx        0.0958      0.006     16.945      0.000       0.085       0.107\nret_dax        0.5582      0.005    113.711      0.000       0.549       0.568\nret_nikkei     0.0702      0.004     16.545      0.000       0.062       0.079\nar.L1         -0.1932      0.101     -1.919      0.055      -0.391       0.004\nar.L2          0.5083      0.059      8.640      0.000       0.393       0.624\nma.L1          0.0863      0.101      0.855      0.393      -0.112       0.284\nma.L2         -0.5368      0.056     -9.533      0.000      -0.647      -0.426\nar.S.L5        0.0705      0.339      0.208      0.835      -0.595       0.736\nma.S.L5       -0.0987      0.339     -0.291      0.771      -0.764       0.567\nsigma2         0.4405      0.004     99.114      0.000       0.432       0.449\n===================================================================================\nLjung-Box (Q):                       84.25   Jarque-Bera (JB):             15316.47\nProb(Q):                              0.00   Prob(JB):                         0.00\nHeteroskedasticity (H):               0.55   Skew:                             0.25\nProb(H) (two-sided):                  0.00   Kurtosis:                        10.64\n===================================================================================\n\nWarnings:\n[1] Covariance matrix calculated using the outer product of gradients (complex-step).\n\"\"\"",
      "text/html": "<table class=\"simpletable\">\n<caption>SARIMAX Results</caption>\n<tr>\n  <th>Dep. Variable:</th>                  <td>y</td>                <th>  No. Observations:  </th>   <td>6275</td>   \n</tr>\n<tr>\n  <th>Model:</th>           <td>SARIMAX(2, 0, 2)x(1, 0, [1], 5)</td> <th>  Log Likelihood     </th> <td>-6340.150</td>\n</tr>\n<tr>\n  <th>Date:</th>                   <td>Sun, 12 Apr 2020</td>         <th>  AIC                </th> <td>12704.301</td>\n</tr>\n<tr>\n  <th>Time:</th>                       <td>02:32:06</td>             <th>  BIC                </th> <td>12785.233</td>\n</tr>\n<tr>\n  <th>Sample:</th>                    <td>01-10-1994</td>            <th>  HQIC               </th> <td>12732.342</td>\n</tr>\n<tr>\n  <th></th>                          <td>- 01-26-2018</td>           <th>                     </th>     <td> </td>    \n</tr>\n<tr>\n  <th>Covariance Type:</th>               <td>opg</td>               <th>                     </th>     <td> </td>    \n</tr>\n</table>\n<table class=\"simpletable\">\n<tr>\n       <td></td>         <th>coef</th>     <th>std err</th>      <th>z</th>      <th>P>|z|</th>  <th>[0.025</th>    <th>0.975]</th>  \n</tr>\n<tr>\n  <th>intercept</th>  <td>   -0.0043</td> <td>    0.009</td> <td>   -0.499</td> <td> 0.618</td> <td>   -0.021</td> <td>    0.013</td>\n</tr>\n<tr>\n  <th>drift</th>      <td>-1.452e-06</td> <td> 2.72e-06</td> <td>   -0.534</td> <td> 0.593</td> <td>-6.78e-06</td> <td> 3.88e-06</td>\n</tr>\n<tr>\n  <th>ret_spx</th>    <td>    0.0958</td> <td>    0.006</td> <td>   16.945</td> <td> 0.000</td> <td>    0.085</td> <td>    0.107</td>\n</tr>\n<tr>\n  <th>ret_dax</th>    <td>    0.5582</td> <td>    0.005</td> <td>  113.711</td> <td> 0.000</td> <td>    0.549</td> <td>    0.568</td>\n</tr>\n<tr>\n  <th>ret_nikkei</th> <td>    0.0702</td> <td>    0.004</td> <td>   16.545</td> <td> 0.000</td> <td>    0.062</td> <td>    0.079</td>\n</tr>\n<tr>\n  <th>ar.L1</th>      <td>   -0.1932</td> <td>    0.101</td> <td>   -1.919</td> <td> 0.055</td> <td>   -0.391</td> <td>    0.004</td>\n</tr>\n<tr>\n  <th>ar.L2</th>      <td>    0.5083</td> <td>    0.059</td> <td>    8.640</td> <td> 0.000</td> <td>    0.393</td> <td>    0.624</td>\n</tr>\n<tr>\n  <th>ma.L1</th>      <td>    0.0863</td> <td>    0.101</td> <td>    0.855</td> <td> 0.393</td> <td>   -0.112</td> <td>    0.284</td>\n</tr>\n<tr>\n  <th>ma.L2</th>      <td>   -0.5368</td> <td>    0.056</td> <td>   -9.533</td> <td> 0.000</td> <td>   -0.647</td> <td>   -0.426</td>\n</tr>\n<tr>\n  <th>ar.S.L5</th>    <td>    0.0705</td> <td>    0.339</td> <td>    0.208</td> <td> 0.835</td> <td>   -0.595</td> <td>    0.736</td>\n</tr>\n<tr>\n  <th>ma.S.L5</th>    <td>   -0.0987</td> <td>    0.339</td> <td>   -0.291</td> <td> 0.771</td> <td>   -0.764</td> <td>    0.567</td>\n</tr>\n<tr>\n  <th>sigma2</th>     <td>    0.4405</td> <td>    0.004</td> <td>   99.114</td> <td> 0.000</td> <td>    0.432</td> <td>    0.449</td>\n</tr>\n</table>\n<table class=\"simpletable\">\n<tr>\n  <th>Ljung-Box (Q):</th>          <td>84.25</td> <th>  Jarque-Bera (JB):  </th> <td>15316.47</td>\n</tr>\n<tr>\n  <th>Prob(Q):</th>                <td>0.00</td>  <th>  Prob(JB):          </th>   <td>0.00</td>  \n</tr>\n<tr>\n  <th>Heteroskedasticity (H):</th> <td>0.55</td>  <th>  Skew:              </th>   <td>0.25</td>  \n</tr>\n<tr>\n  <th>Prob(H) (two-sided):</th>    <td>0.00</td>  <th>  Kurtosis:          </th>   <td>10.64</td> \n</tr>\n</table><br/><br/>Warnings:<br/>[1] Covariance matrix calculated using the outer product of gradients (complex-step)."
     },
     "metadata": {},
     "execution_count": 33
    }
   ],
   "source": [
    "model_auto.summary()"
   ]
  }
 ],
 "metadata": {
  "kernelspec": {
   "display_name": "Python 3",
   "language": "python",
   "name": "python3"
  },
  "language_info": {
   "codemirror_mode": {
    "name": "ipython",
    "version": 3
   },
   "file_extension": ".py",
   "mimetype": "text/x-python",
   "name": "python",
   "nbconvert_exporter": "python",
   "pygments_lexer": "ipython3",
   "version": "3.7.6-final"
  }
 },
 "nbformat": 4,
 "nbformat_minor": 2
}