{
 "cells": [
  {
   "cell_type": "markdown",
   "metadata": {},
   "source": [
    "# Predicting on new data"
   ]
  },
  {
   "cell_type": "markdown",
   "metadata": {},
   "source": [
    "## Import the relevant libraries"
   ]
  },
  {
   "cell_type": "code",
   "execution_count": 1,
   "metadata": {},
   "outputs": [],
   "source": [
    "# As usual we are starting a new notebook and we need to import all relevant packages\n",
    "import numpy as np\n",
    "import tensorflow as tf\n",
    "import pickle"
   ]
  },
  {
   "cell_type": "markdown",
   "metadata": {},
   "source": [
    "## Load the scaler and the model"
   ]
  },
  {
   "cell_type": "code",
   "execution_count": 2,
   "metadata": {
    "scrolled": true
   },
   "outputs": [
    {
     "name": "stdout",
     "output_type": "stream",
     "text": [
      "WARNING:tensorflow:Sequential models without an `input_shape` passed to the first layer cannot reload their optimizer state. As a result, your model isstarting with a freshly initialized optimizer.\n"
     ]
    }
   ],
   "source": [
    "# To load the scaler we use the pickle method load\n",
    "scaler_deep_learning = pickle.load(open('scaler_deep_learning.pickle', 'rb'))\n",
    "# To load the model, we use the TensorFlow (Keras) function relevant for the operation\n",
    "model = tf.keras.models.load_model('audiobooks_model.h5')\n",
    "\n",
    "# Note that since we did not specify the input shape of our inputs in the modeling part, we get a warning\n",
    "# For feed-forward neural networks such as ours that is not an issue"
   ]
  },
  {
   "cell_type": "markdown",
   "metadata": {},
   "source": [
    "## Load the new data"
   ]
  },
  {
   "cell_type": "code",
   "execution_count": 3,
   "metadata": {},
   "outputs": [],
   "source": [
    "# The new data is located in 'New_Audiobooks_Data.csv'\n",
    "# To keep everything as before, we must specify the delimiter explicitly\n",
    "raw_data = np.loadtxt('New_Audiobooks_Data.csv',delimiter=',')\n",
    "# We are interested in all data except for the first column (ID)\n",
    "# Note that there are no targets in this CSV file (we don't know the behavior of these clients, yet!)\n",
    "new_data_inputs = raw_data[:,1:]"
   ]
  },
  {
   "cell_type": "markdown",
   "metadata": {},
   "source": [
    "## Predict the probability of a customer to convert"
   ]
  },
  {
   "cell_type": "code",
   "execution_count": 4,
   "metadata": {},
   "outputs": [],
   "source": [
    "# Scale the new data in the same way we scaled the train data\n",
    "new_data_inputs_scaled = scaler_deep_learning.transform(new_data_inputs)"
   ]
  },
  {
   "cell_type": "code",
   "execution_count": 5,
   "metadata": {},
   "outputs": [
    {
     "data": {
      "text/plain": [
       "array([0.02, 0.  , 0.09, 1.  , 0.  , 0.07, 0.06, 0.07, 0.05, 0.78, 0.  ,\n",
       "       0.82, 0.99, 0.  , 0.12, 0.17, 0.89, 0.73, 0.87, 0.97, 1.  , 1.  ,\n",
       "       1.  , 0.  , 0.  , 0.99, 0.41, 0.  , 1.  , 1.  ], dtype=float32)"
      ]
     },
     "execution_count": 5,
     "metadata": {},
     "output_type": "execute_result"
    }
   ],
   "source": [
    "# Predict the probability of each customer to convert\n",
    "# Here we have also taken only the second column and rounded to 2 digits after the dot\n",
    "model.predict(new_data_inputs_scaled)[:,1].round(2)"
   ]
  },
  {
   "cell_type": "code",
   "execution_count": 6,
   "metadata": {},
   "outputs": [
    {
     "data": {
      "text/plain": [
       "array([0, 0, 0, 1, 0, 0, 0, 0, 0, 1, 0, 1, 1, 0, 0, 0, 1, 1, 1, 1, 1, 1,\n",
       "       1, 0, 0, 1, 0, 0, 1, 1], dtype=int64)"
      ]
     },
     "execution_count": 6,
     "metadata": {},
     "output_type": "execute_result"
    }
   ],
   "source": [
    "# Implement the better approach which is independent of the number of classes\n",
    "np.argmax(model.predict(new_data_inputs_scaled),1)"
   ]
  }
 ],
 "metadata": {
  "kernelspec": {
   "display_name": "Python [conda env:py3-TF2.0]",
   "language": "python",
   "name": "conda-env-py3-TF2.0-py"
  },
  "language_info": {
   "codemirror_mode": {
    "name": "ipython",
    "version": 3
   },
   "file_extension": ".py",
   "mimetype": "text/x-python",
   "name": "python",
   "nbconvert_exporter": "python",
   "pygments_lexer": "ipython3",
   "version": "3.7.5"
  }
 },
 "nbformat": 4,
 "nbformat_minor": 2
}
